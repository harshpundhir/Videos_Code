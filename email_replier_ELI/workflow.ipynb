{
 "cells": [
  {
   "cell_type": "code",
   "execution_count": 1,
   "metadata": {},
   "outputs": [],
   "source": [
    "import json\n",
    "import os\n",
    "from langchain_openai import OpenAIEmbeddings\n",
    "from langchain_community.document_loaders import JSONLoader\n",
    "from langchain.docstore.document import Document\n",
    "from pathlib import Path\n",
    "from pprint import pprint as pp\n",
    "from langchain_community.vectorstores import FAISS\n",
    "\n",
    "embeddings = OpenAIEmbeddings()\n",
    "\n",
    "file_path = \"emails_100.json\"\n",
    "\n",
    "data = json.loads(Path(file_path).read_text())\n",
    "\n",
    "documents = [\n",
    "    Document(\n",
    "        page_content=entry[\"Body\"],  # Main content for the document\n",
    "        metadata={\n",
    "            \"From\": entry[\"From\"],\n",
    "            \"Email\": entry[\"Email\"],\n",
    "            \"Subject\": entry[\"Subject\"],\n",
    "            \"Date\": entry[\"Date\"]\n",
    "        }\n",
    "    )\n",
    "    for entry in data\n",
    "]\n",
    "\n",
    "if not os.path.exists(\"email_replier_ELI_vs\"):\n",
    "    os.makedirs(\"email_replier_ELI_vs\")\n",
    "    vs: FAISS = FAISS.from_documents(documents, embeddings)\n",
    "    vs.save_local(\"email_replier_ELI_vs\")\n",
    "else:\n",
    "    vs = FAISS.load_local(\"email_replier_ELI_vs\", embeddings, allow_dangerous_deserialization=True)"
   ]
  },
  {
   "cell_type": "code",
   "execution_count": 7,
   "metadata": {},
   "outputs": [
    {
     "name": "stdout",
     "output_type": "stream",
     "text": [
      "{'Date': '2024-11-22 06:31:09',\n",
      " 'Email': 'friendsuggestion@facebookmail.com',\n",
      " 'From': 'Facebook Friend Suggestions',\n",
      " 'Subject': '👤 Kiran Khashempur is a new friend suggestion for you'}\n",
      "('======================================== Find more friends '\n",
      " '======================================== Hi Harsh, Add the people you know '\n",
      " 'to see their photos and updates. Thanks, The Facebook team '\n",
      " '======================================== This message was sent to '\n",
      " \"pundhirharsh6@gmail.com. If you don't want to receive these emails from Meta \"\n",
      " 'in the future, please follow the link below to unsubscribe. Meta Platforms, '\n",
      " 'Inc., Attention: Community Support, 1 Meta Way, Menlo Park, CA 94025 To help '\n",
      " \"keep your account secure, please don't forward this email. Follow the link \"\n",
      " 'below to learn more.')\n",
      "-\n",
      "{'Date': '2024-11-24 18:57:05',\n",
      " 'Email': 'notifications-noreply@linkedin.com',\n",
      " 'From': 'LinkedIn',\n",
      " 'Subject': 'You have 1 new invitation'}\n",
      "('You have 1 new invitation View invitations: Congratulate Mehul Mistry for 4 '\n",
      " 'years at ACE Regtech Say congrats: Wish Fatma Bugdayci- Yildirim a happy '\n",
      " 'birthday Say happy birthday Onkar Tiwari commented on Rahine Bose 🇮🇳’s post: '\n",
      " 'Virat ka form me aana jaise lag rha hai ki. Maine kuchh bda achieve Kiya. '\n",
      " 'Now Real Tabahi start. See post: Dr. Rohit Upadhyay commented on Shrinath '\n",
      " 'S.’s post: Best wishes for next opportunity, keep up hard work See post: '\n",
      " 'Alvin Foo shared a post: Accuracy at its best 😍 Comment: You appeared in 24 '\n",
      " 'searches this week You were found by people from these companies See all '\n",
      " \"searches Daily Rundown: Exercise may lower risk of dementia; Robots can't do \"\n",
      " 'everything – yet; and other top news for you Read more '\n",
      " '---------------------------------------- This email was intended for Harsh '\n",
      " 'Pundhir (An enthusiastic engineer and self-motivated graduate with the '\n",
      " 'capability of transforming ideas into technical solutions.) Learn why we '\n",
      " 'included this: You are receiving LinkedIn notification emails. Unsubscribe: '\n",
      " 'Help: © 2024 LinkedIn Corporation, 1zwnj000 West Maude Avenue, Sunnyvale, CA '\n",
      " '94085. LinkedIn and the LinkedIn logo are registered trademarks of LinkedIn.')\n",
      "-\n",
      "{'Date': '2024-12-02 16:50:30',\n",
      " 'Email': 'messages-noreply@linkedin.com',\n",
      " 'From': 'LinkedIn',\n",
      " 'Subject': 'Harsh, add Xiangyu Gao'}\n",
      "('Do you know Xiangyu Gao?10 mutual connections Yes, connect: More people you '\n",
      " 'may know Aron Richard Ferencz MSc AI @ Vrije Universiteit Amsterdam mutual '\n",
      " 'connections Zeynep Uzun Consultant at Amsterdam Research Project | MSc '\n",
      " 'Business Administration, Management Consulting Student, BSc Computer Science '\n",
      " 'graduate from Vrije Universiteit Amsterdam mutual connections Vlad Dobrescu '\n",
      " 'Student at Vrije Universiteit Amsterdam (VU Amsterdam) mutual connections '\n",
      " 'Ansh Bhandari Master’s in Artificial Intelligence Student at Vrije '\n",
      " 'Universiteit Amsterdam (VU Amsterdam) mutual connections Christian '\n",
      " 'Zwinkels-Valero Student at Technische Universiteit Delft (TU Delft) mutual '\n",
      " 'connections See more people you might know: '\n",
      " '---------------------------------------- This email was intended for Harsh '\n",
      " 'Pundhir (An enthusiastic engineer and self-motivated graduate with the '\n",
      " 'capability of transforming ideas into technical solutions.) Learn why we '\n",
      " 'included this: You are receiving People You May Know notification emails. '\n",
      " 'Unsubscribe: Help: © 2024 LinkedIn Corporation, 1zwnj000 West Maude Avenue, '\n",
      " 'Sunnyvale, CA 94085. LinkedIn and the LinkedIn logo are registered '\n",
      " 'trademarks of LinkedIn.')\n",
      "-\n"
     ]
    }
   ],
   "source": [
    "for mail in vs.similarity_search(\"linkedin friend\", k=3):\n",
    "    pp(mail.metadata)\n",
    "    pp(mail.page_content)\n",
    "    print(\"-\")"
   ]
  },
  {
   "cell_type": "code",
   "execution_count": null,
   "metadata": {},
   "outputs": [],
   "source": [
    "vs.similarity_search(\"facebook friend\", k=3, filter={'Email': 'notifications-noreply@linkedin.com'})"
   ]
  },
  {
   "cell_type": "code",
   "execution_count": 18,
   "metadata": {},
   "outputs": [
    {
     "data": {
      "text/markdown": [
       "### Emails That Require Immediate Attention\n",
       "\n",
       "1. **HDFC Bank: Maintain Average Minimum Balance**\n",
       "   - **Subject**: Important notice: Maintain Average Minimum Balance to avoid charges\n",
       "   - **Date**: November 26, 2024\n",
       "   - **Action Required**: Review your account balance to ensure it meets the minimum requirements to avoid potential charges.\n",
       "\n",
       "2. **MijnOverheid: Document Received**\n",
       "   - **Subject**: Bericht van Justis (document ontvangen)\n",
       "   - **Date**: November 28, 2024\n",
       "   - **Action Required**: Log in to MijnOverheid to view the document and determine if any action is needed based on its content.\n",
       "\n",
       "### Summary of Other Emails\n",
       "- **AutoGPT Newsletter**: No immediate action required.\n",
       "- **Brain Food Newsletter**: No immediate action required.\n",
       "- **LinkedIn Notifications**: No immediate action required unless interested in the mentioned posts or updates.\n",
       "- **Facebook Friend Suggestions**: No immediate action required unless you wish to connect with suggested friends.\n",
       "\n",
       "### Conclusion\n",
       "The emails from HDFC Bank and MijnOverheid should be prioritized for immediate review and action."
      ],
      "text/plain": [
       "<IPython.core.display.Markdown object>"
      ]
     },
     "metadata": {},
     "output_type": "display_data"
    },
    {
     "data": {
      "text/markdown": [
       "<ins>**Note:** The following emails were used for context:</ins>"
      ],
      "text/plain": [
       "<IPython.core.display.Markdown object>"
      ]
     },
     "metadata": {},
     "output_type": "display_data"
    },
    {
     "name": "stdout",
     "output_type": "stream",
     "text": [
      "news@agpt.co\n",
      "information@hdfcbank.net\n",
      "newsletter@farnamstreetblog.com\n",
      "messages-noreply@linkedin.com\n",
      "noreply@alerts.sbi.co.in\n",
      "messages-noreply@linkedin.com\n",
      "linkedin@e.linkedin.com\n",
      "messages-noreply@linkedin.com\n",
      "friendsuggestion@facebookmail.com\n",
      "noreply@mijn.overheid.nl\n"
     ]
    }
   ],
   "source": [
    "from langchain_openai import ChatOpenAI\n",
    "from langchain_core.prompts import ChatPromptTemplate\n",
    "from langchain_core.output_parsers import StrOutputParser\n",
    "from pprint import pprint\n",
    "from IPython.display import display, Markdown\n",
    "\n",
    "retriever = vs.as_retriever(search_type=\"mmr\", search_kwargs={\"k\": 3})\n",
    "# docs = retriever(\"{input}\")\n",
    "\n",
    "prompt = ChatPromptTemplate.from_messages(\n",
    "    [\n",
    "        (\n",
    "            \"system\",\n",
    "            \"You are a helpful assistant that can answer questions about the emails. Use the following emails for context: {context} \\\n",
    "            \\n answer with proper headings and bullet points\",\n",
    "        ),\n",
    "        (\"human\", \"{input}\"),\n",
    "    ]\n",
    ")\n",
    "\n",
    "llm = ChatOpenAI(model=\"gpt-4o-mini\")\n",
    "\n",
    "parser = StrOutputParser()\n",
    "\n",
    "chain = prompt | llm | parser\n",
    "\n",
    "hum_input = \"do Any emails need immediate attention?\" \n",
    "# hum_input = \"do any emails seek immideate attention?\"\n",
    "\n",
    "context = vs.similarity_search(hum_input, k=10)\n",
    "\n",
    "display(\n",
    "    Markdown(chain.invoke({\"input\": hum_input, \"context\": context}))\n",
    ")\n",
    "# print sources of the emails\n",
    "\n",
    "display(Markdown(\"<ins>**Note:** The following emails were used for context:</ins>\"))\n",
    "for email in context:\n",
    "    print(email.metadata[\"Email\"])"
   ]
  },
  {
   "cell_type": "code",
   "execution_count": 13,
   "metadata": {},
   "outputs": [
    {
     "name": "stdout",
     "output_type": "stream",
     "text": [
      "{'id': ['langchain', 'schema', 'messages', 'AIMessage'],\n",
      " 'kwargs': {'additional_kwargs': {'refusal': None},\n",
      "            'content': 'Ho ho ho! Well, my dear friend, when it comes to '\n",
      "                       'emails, some certainly may require immediate '\n",
      "                       'attention, just like the naughty or nice list! If you '\n",
      "                       'see emails marked as urgent, have important deadlines, '\n",
      "                       'or involve time-sensitive matters, those are the ones '\n",
      "                       'to focus on right away. Just like checking in on your '\n",
      "                       \"Christmas preparations, it's always good to \"\n",
      "                       'prioritize! Merry emailing! 🎅🎄',\n",
      "            'id': 'run-1330fffa-6ee5-4aed-8b3f-9a7171fc9fd8-0',\n",
      "            'invalid_tool_calls': [],\n",
      "            'response_metadata': {'finish_reason': 'stop',\n",
      "                                  'logprobs': None,\n",
      "                                  'model_name': 'gpt-4o-mini-2024-07-18',\n",
      "                                  'system_fingerprint': 'fp_d02d531b47',\n",
      "                                  'token_usage': {'completion_tokens': 82,\n",
      "                                                  'completion_tokens_details': {'accepted_prediction_tokens': 0,\n",
      "                                                                                'audio_tokens': 0,\n",
      "                                                                                'reasoning_tokens': 0,\n",
      "                                                                                'rejected_prediction_tokens': 0},\n",
      "                                                  'prompt_tokens': 23,\n",
      "                                                  'prompt_tokens_details': {'audio_tokens': 0,\n",
      "                                                                            'cached_tokens': 0},\n",
      "                                                  'total_tokens': 105}},\n",
      "            'tool_calls': [],\n",
      "            'type': 'ai',\n",
      "            'usage_metadata': {'input_token_details': {'audio': 0,\n",
      "                                                       'cache_read': 0},\n",
      "                               'input_tokens': 23,\n",
      "                               'output_token_details': {'audio': 0,\n",
      "                                                        'reasoning': 0},\n",
      "                               'output_tokens': 82,\n",
      "                               'total_tokens': 105}},\n",
      " 'lc': 1,\n",
      " 'type': 'constructor'}\n"
     ]
    }
   ],
   "source": [
    "from langchain_core.messages import HumanMessage, SystemMessage, AIMessage\n",
    "\n",
    "llm = ChatOpenAI(model=\"gpt-4o-mini\")\n",
    "\n",
    "syst = SystemMessage(\"talk like santa\")\n",
    "hum = HumanMessage(\"do any emails seek immideate attention?\")\n",
    "\n",
    "pp(llm.invoke([syst, hum]).to_json())"
   ]
  },
  {
   "cell_type": "code",
   "execution_count": 14,
   "metadata": {},
   "outputs": [
    {
     "data": {
      "text/plain": [
       "[SystemMessage(content='talk like santa', additional_kwargs={}, response_metadata={}),\n",
       " HumanMessage(content='do any emails seek immideate attention?', additional_kwargs={}, response_metadata={})]"
      ]
     },
     "execution_count": 14,
     "metadata": {},
     "output_type": "execute_result"
    }
   ],
   "source": [
    "from langchain_core.prompts import ChatPromptTemplate\n",
    "\n",
    "syst = SystemMessage(\"talk like {name}\")\n",
    "hum = HumanMessage(\"do any emails seek immideate attention?\")\n",
    "prompt = ChatPromptTemplate([syst, hum])\n",
    "\n",
    "# OR\n",
    "\n",
    "prompt = ChatPromptTemplate.from_messages(\n",
    "    [\n",
    "        (\"system\", \"talk like {name}\"),\n",
    "        (\"human\", \"do any emails seek immideate attention?\"),\n",
    "    ]\n",
    ")\n",
    "\n",
    "\n",
    "prompt.invoke({\"name\": \"santa\"}).to_messages()\n"
   ]
  },
  {
   "cell_type": "code",
   "execution_count": 21,
   "metadata": {},
   "outputs": [
    {
     "name": "stdout",
     "output_type": "stream",
     "text": [
      "True\n",
      "True\n",
      "True\n"
     ]
    }
   ],
   "source": [
    "pp(llm.is_lc_serializable())\n",
    "pp(prompt.is_lc_serializable())\n",
    "pp(parser.is_lc_serializable())"
   ]
  }
 ],
 "metadata": {
  "kernelspec": {
   "display_name": "venv",
   "language": "python",
   "name": "python3"
  },
  "language_info": {
   "codemirror_mode": {
    "name": "ipython",
    "version": 3
   },
   "file_extension": ".py",
   "mimetype": "text/x-python",
   "name": "python",
   "nbconvert_exporter": "python",
   "pygments_lexer": "ipython3",
   "version": "3.12.0"
  }
 },
 "nbformat": 4,
 "nbformat_minor": 2
}
